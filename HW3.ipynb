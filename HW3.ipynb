{
 "cells": [
  {
   "cell_type": "code",
   "execution_count": 10,
   "id": "787c270a",
   "metadata": {},
   "outputs": [],
   "source": [
    "import matplotlib.pyplot as plt\n",
    "import numpy as np\n",
    "import pandas as pd\n",
    "from sklearn import metrics\n",
    "from sklearn.datasets import load_breast_cancer\n",
    "from sklearn.decomposition import PCA\n",
    "from sklearn.discriminant_analysis import LinearDiscriminantAnalysis\n",
    "from sklearn.linear_model import LogisticRegression\n",
    "from sklearn.model_selection import train_test_split\n",
    "from sklearn.preprocessing import MinMaxScaler, StandardScaler"
   ]
  },
  {
   "cell_type": "code",
   "execution_count": 11,
   "id": "05820621",
   "metadata": {},
   "outputs": [],
   "source": [
    "def gradient_descent(x, y, theta, alpha, iterations):\n",
    "    cost_history = np.zeros(iterations)\n",
    "    acc = np.zeros(iterations)\n",
    "    m = x.shape[0]\n",
    "    x = np.hstack((np.ones((m, 1)), x.reshape(m, n)))\n",
    "\n",
    "    for i in range(iterations):\n",
    "        # Computes ML model prediction using column vector theta and x values with\n",
    "        # matrix vector product\n",
    "        predictions = np.divide(1, 1 + np.exp(-1 * x.dot(theta)))\n",
    "        theta = theta - (alpha / m) * x.transpose().dot(predictions - y)\n",
    "\n",
    "        # Computes value of cost function J for each iteration\n",
    "        log1 = np.multiply(y, np.log(predictions))\n",
    "        log2 = np.multiply(1 - y, np.log(1 - predictions))\n",
    "        cost_history[i] = -1 / m * np.sum(log1 + log2)\n",
    "\n",
    "        # Computes accuracy for each iteration\n",
    "        acc[i] = (m - np.sum(np.abs(np.round(predictions) - y))) / m\n",
    "\n",
    "    return theta, cost_history, acc"
   ]
  },
  {
   "cell_type": "code",
   "execution_count": 12,
   "id": "da63626c",
   "metadata": {},
   "outputs": [],
   "source": [
    "# Problem 1\n",
    "\n",
    "# Loads breast labelled training data\n",
    "breast = load_breast_cancer()"
   ]
  },
  {
   "cell_type": "code",
   "execution_count": 13,
   "id": "bae7750f",
   "metadata": {},
   "outputs": [],
   "source": [
    "# Formats np array\n",
    "breast_data = breast.data\n",
    "labels = np.reshape(breast.target, (breast_data.shape[0], 1))\n",
    "df = pd.DataFrame(np.concatenate([breast_data, labels], axis=1))"
   ]
  },
  {
   "cell_type": "code",
   "execution_count": 14,
   "id": "dad16234",
   "metadata": {},
   "outputs": [],
   "source": [
    "n = breast_data.shape[1]\n",
    "x = df.values[:, :n]\n",
    "y = df.values[:, n]"
   ]
  },
  {
   "cell_type": "code",
   "execution_count": 15,
   "id": "171d0589",
   "metadata": {},
   "outputs": [],
   "source": [
    "# Performs MIN MAX scaling\n",
    "mms = MinMaxScaler()\n",
    "x = mms.fit_transform(x)"
   ]
  },
  {
   "cell_type": "code",
   "execution_count": 16,
   "id": "5c3909ed",
   "metadata": {},
   "outputs": [],
   "source": [
    "# Performs standardization\n",
    "standSc = StandardScaler()\n",
    "x = standSc.fit_transform(x)"
   ]
  },
  {
   "cell_type": "code",
   "execution_count": 17,
   "id": "137f9e15",
   "metadata": {},
   "outputs": [],
   "source": [
    "# Performs 80% and 20% split \n",
    "np.random.seed(1)\n",
    "x_train, x_test, y_train, y_test = train_test_split(x, y, train_size=0.8, test_size=0.2, random_state=np.random)"
   ]
  },
  {
   "cell_type": "code",
   "execution_count": 18,
   "id": "264e16cb",
   "metadata": {},
   "outputs": [],
   "source": [
    "# Initializes theta, alpha, and the number of iterations\n",
    "theta = np.zeros(x.shape[1] + 1)\n",
    "alpha = 0.065\n",
    "itera = 1500"
   ]
  },
  {
   "cell_type": "code",
   "execution_count": 21,
   "id": "4086ba80",
   "metadata": {},
   "outputs": [],
   "source": [
    "# Trains ML model with all input variables and evaluates the model on the test set\n",
    "theta, train_cost, train_acc = gradient_descent(x_train, y_train, theta, alpha, itera)\n",
    "test_cost, test_acc = gradient_descent(x_test, y_test, theta, alpha, itera)[1:]"
   ]
  },
  {
   "cell_type": "code",
   "execution_count": 22,
   "id": "4eaa0f0a",
   "metadata": {},
   "outputs": [
    {
     "name": "stdout",
     "output_type": "stream",
     "text": [
      "Accuracy: 0.9736842105263158\n"
     ]
    }
   ],
   "source": [
    "# Evaluates model using accuracy evaluation metric\n",
    "print('Accuracy:', test_acc[0])"
   ]
  },
  {
   "cell_type": "code",
   "execution_count": 23,
   "id": "734eba4f",
   "metadata": {},
   "outputs": [
    {
     "data": {
      "text/plain": [
       "<matplotlib.legend.Legend at 0x20cd97ab6a0>"
      ]
     },
     "execution_count": 23,
     "metadata": {},
     "output_type": "execute_result"
    },
    {
     "data": {
      "image/png": "[encoded data removed]",
      "text/plain": [
       "<Figure size 432x288 with 1 Axes>"
      ]
     },
     "metadata": {
      "needs_background": "light"
     },
     "output_type": "display_data"
    }
   ],
   "source": [
    "# Plots training and test cost history for the logistic regression\n",
    "plt.figure(1)\n",
    "plt.plot(np.linspace(1, itera, itera), train_cost, color='red', label='Training cost')\n",
    "plt.plot(np.linspace(1, itera, itera), test_cost, color='blue', label='Test cost')\n",
    "plt.rcParams['figure.figsize'] = (10, 6)\n",
    "plt.grid()\n",
    "plt.xlabel('Iterations')\n",
    "plt.ylabel('Cost')\n",
    "plt.title('Training and test cost')\n",
    "plt.legend()"
   ]
  },
  {
   "cell_type": "code",
   "execution_count": 24,
   "id": "e7df8c75",
   "metadata": {},
   "outputs": [
    {
     "data": {
      "text/plain": [
       "<matplotlib.legend.Legend at 0x20cd97dcd90>"
      ]
     },
     "execution_count": 24,
     "metadata": {},
     "output_type": "execute_result"
    },
    {
     "data": {
      "image/png": "[encoded data removed]",
      "text/plain": [
       "<Figure size 720x432 with 1 Axes>"
      ]
     },
     "metadata": {
      "needs_background": "light"
     },
     "output_type": "display_data"
    }
   ],
   "source": [
    "# Plots training and test accuracy history for the logistic regression\n",
    "plt.figure(2)\n",
    "plt.plot(np.linspace(1, itera, itera), train_acc, color='red', label='Training accuracy')\n",
    "plt.plot(np.linspace(1, itera, itera), test_acc, color='blue', label='Test accuracy')\n",
    "plt.rcParams['figure.figsize'] = (10, 6)\n",
    "plt.grid()\n",
    "plt.xlabel('Iterations')\n",
    "plt.ylabel('Accuracy')\n",
    "plt.title('Training and test accuracy')\n",
    "plt.legend()"
   ]
  },
  {
   "cell_type": "code",
   "execution_count": 25,
   "id": "dc42d5c9",
   "metadata": {},
   "outputs": [],
   "source": [
    "# Problem 2\n",
    "\n",
    "# Performs PCA on the data\n",
    "pca = PCA()\n",
    "pcs = pca.fit_transform(x)\n",
    "\n",
    "# Performs 80% and 20% split of the labelled data into training and test sets\n",
    "x_train_p, x_test_p, y_train_p, y_test_p = train_test_split(pcs, y, train_size=0.8, test_size=0.2, random_state=np.random)"
   ]
  },
  {
   "cell_type": "code",
   "execution_count": 26,
   "id": "479e1fe5",
   "metadata": {},
   "outputs": [],
   "source": [
    "# Initializes evaluation metrics for logistic regression model PCA\n",
    "k = pcs.shape[1]\n",
    "accuracy = np.zeros(k)\n",
    "precision = np.zeros(k)\n",
    "recall = np.zeros(k)"
   ]
  },
  {
   "cell_type": "code",
   "execution_count": 27,
   "id": "14aa328a",
   "metadata": {},
   "outputs": [],
   "source": [
    "\n",
    "# Iteratively trains and evaluates model\n",
    "acc = 0\n",
    "k_opt = 0\n",
    "for i in range(k):\n",
    "    # Performing logistic regression\n",
    "    lr = LogisticRegression()\n",
    "    lr.fit(x_train_p[:, :i + 1], y_train_p)\n",
    "    y_pred = lr.predict(x_test_p[:, :i + 1])\n",
    "\n",
    "    # Evaluating model using accuracy, precision, and recall\n",
    "    accuracy[i] = metrics.accuracy_score(y_test_p, y_pred)\n",
    "    precision[i] = metrics.precision_score(y_test_p, y_pred)\n",
    "    recall[i] = metrics.recall_score(y_test_p, y_pred)\n",
    "\n",
    "    if accuracy[i] > acc:\n",
    "        acc = accuracy[i]\n",
    "        k_opt = i + 1"
   ]
  },
  {
   "cell_type": "code",
   "execution_count": 29,
   "id": "446b6419",
   "metadata": {},
   "outputs": [
    {
     "name": "stdout",
     "output_type": "stream",
     "text": [
      "Optimal value of K: 9\n",
      "Accuracy: 0.9912280701754386\n",
      "Precision: 1.0\n",
      "Recall: 0.9859154929577465\n"
     ]
    }
   ],
   "source": [
    "# Displays optimal K and corresponding accuracy, precision, and recall\n",
    "print('Optimal value of K:', k_opt)\n",
    "print('Accuracy:', acc)\n",
    "print('Precision:', precision[k_opt - 1])\n",
    "print('Recall:', recall[k_opt - 1])"
   ]
  },
  {
   "cell_type": "code",
   "execution_count": 30,
   "id": "11cb19bf",
   "metadata": {},
   "outputs": [
    {
     "data": {
      "text/plain": [
       "<matplotlib.legend.Legend at 0x20cd9929d30>"
      ]
     },
     "execution_count": 30,
     "metadata": {},
     "output_type": "execute_result"
    },
    {
     "data": {
      "image/png": "[encoded data removed]",
      "text/plain": [
       "<Figure size 720x432 with 1 Axes>"
      ]
     },
     "metadata": {
      "needs_background": "light"
     },
     "output_type": "display_data"
    }
   ],
   "source": [
    "# Plots accuracy, precision, and recall for varying numbers of principal components\n",
    "plt.figure(3)\n",
    "plt.plot(np.linspace(1, k, k), accuracy, color='red',\n",
    "         label='Accuracy')\n",
    "plt.plot(np.linspace(1, k, k), precision, color='blue',\n",
    "         label='Precision')\n",
    "plt.plot(np.linspace(1, k, k), recall, color='green',\n",
    "         label='Recall')\n",
    "plt.rcParams['figure.figsize'] = (10, 6)\n",
    "plt.grid()\n",
    "plt.xlabel('K')\n",
    "plt.ylabel('Metric value')\n",
    "plt.title('Accuracy, precision, and recall for logistic regression with K principal'\n",
    "          ' components')\n",
    "plt.legend()"
   ]
  },
  {
   "cell_type": "code",
   "execution_count": 31,
   "id": "68028a4b",
   "metadata": {},
   "outputs": [],
   "source": [
    "# Problem 3\n",
    "# Performs LDA on the training data\n",
    "lda = LinearDiscriminantAnalysis()\n",
    "lda.fit(x_train, y_train)\n",
    "y_pred = lda.predict(x_test)"
   ]
  },
  {
   "cell_type": "code",
   "execution_count": 32,
   "id": "1fee6c76",
   "metadata": {},
   "outputs": [
    {
     "name": "stdout",
     "output_type": "stream",
     "text": [
      "Accuracy: 0.9473684210526315\n",
      "Precision: 0.9230769230769231\n",
      "Recall: 1.0\n"
     ]
    }
   ],
   "source": [
    "# Evaluates naive Bayes model using accuracy, precision, and recall evaluation metrics\n",
    "print('Accuracy:', metrics.accuracy_score(y_test, y_pred))\n",
    "print('Precision:', metrics.precision_score(y_test, y_pred))\n",
    "print('Recall:', metrics.recall_score(y_test, y_pred))"
   ]
  },
  {
   "cell_type": "code",
   "execution_count": 33,
   "id": "2122392a",
   "metadata": {},
   "outputs": [],
   "source": [
    "# Problem 4\n",
    "# Transforms input data using linear discriminant function from LDA\n",
    "lds = lda.fit_transform(x, y)"
   ]
  },
  {
   "cell_type": "code",
   "execution_count": 34,
   "id": "9374357c",
   "metadata": {},
   "outputs": [],
   "source": [
    "\n",
    "# Performs 80% and 20% split of the labelled data into training and test sets\n",
    "x_train_l, x_test_l, y_train_l, y_test_l = train_test_split(lds, y, train_size=0.8, test_size=0.2, random_state=np.random)"
   ]
  },
  {
   "cell_type": "code",
   "execution_count": 35,
   "id": "51223d69",
   "metadata": {},
   "outputs": [],
   "source": [
    "# Performs logistic regression by instantiating LogisticRegression object\n",
    "lr = LogisticRegression()\n",
    "lr.fit(x_train_l, y_train_l)\n",
    "y_pred = lr.predict(x_test_l)"
   ]
  },
  {
   "cell_type": "code",
   "execution_count": 36,
   "id": "9bc21160",
   "metadata": {},
   "outputs": [
    {
     "name": "stdout",
     "output_type": "stream",
     "text": [
      "Accuracy: 0.9824561403508771\n",
      "Precision: 0.9696969696969697\n",
      "Recall: 1.0\n"
     ]
    }
   ],
   "source": [
    "# Evaluates model using accuracy, precision, and recall evaluation metrics\n",
    "print('Accuracy:', metrics.accuracy_score(y_test_l, y_pred))\n",
    "print('Precision:', metrics.precision_score(y_test_l, y_pred))\n",
    "print('Recall:', metrics.recall_score(y_test_l, y_pred))\n",
    "plt.show()"
   ]
  },
  {
   "cell_type": "code",
   "execution_count": null,
   "id": "ba976417",
   "metadata": {},
   "outputs": [],
   "source": []
  }
 ],
 "metadata": {
  "kernelspec": {
   "display_name": "Python 3",
   "language": "python",
   "name": "python3"
  },
  "language_info": {
   "codemirror_mode": {
    "name": "ipython",
    "version": 3
   },
   "file_extension": ".py",
   "mimetype": "text/x-python",
   "name": "python",
   "nbconvert_exporter": "python",
   "pygments_lexer": "ipython3",
   "version": "3.8.8"
  }
 },
 "nbformat": 4,
 "nbformat_minor": 5
}
